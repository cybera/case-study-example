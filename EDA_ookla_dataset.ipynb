{
 "cells": [
  {
   "cell_type": "markdown",
   "metadata": {},
   "source": [
    "# Exploratory Data Analysis - Ookla for Good Dataset\n",
    "\n",
    "This notebook contains exploratory data analysis of Ookla dataset available [here](https://registry.opendata.aws/speedtest-global-performance/). Primary aim here is to understand the structure of the data, its granularity and usability along with other datasets for upcoming hackathon. Also, a preliminary visualization is created to understand what can be possibly done using this dataset.\n",
    "\n",
    "### Data Structure\n",
    "The dataset contains data from speedtests done by the users around the world in year 2020. It is aggregated by a tile (an area of the earth), quarter of the year and the type of internet connection (i.e. `fixed` or `mobile`). In other words, one file for each quarter and type of connection is available where each row contains an aggregate data for a tile. Data is available in form of shapefiles as well as parquet format, making it in total 16 files. All the files are stored in an AWS S3 bucket. List of all the files in XML format can be accessed [here](https://ookla-open-data.s3-us-west-2.amazonaws.com/).\n",
    "\n",
    "### Accessing the Files\n",
    "There are several different ways to access the files. The easiest way is to download using url. File names are structured as follows:\n",
    "\n",
    "https://ookla-open-data.s3.amazonaws.com/{filetype}/performance/type={type}/year=2020/quarter={quarter}/{date}_performance_{type}_tiles.{extension}\n",
    "     \n",
    "where \n",
    "* `filetype` can be `shapefiles` or `parquet`\n",
    "* `type` can be `fixed` or `mobile` \n",
    "* `quarter` can be any integer from 1 to 4 (both inclusive) \n",
    "* `date` in the file name is the start date of the quarter. Note that `date` should match the corresponding `quarter` as shown in the table below:\n",
    "     | quarter | date |\n",
    "     | --- | --- | \n",
    "     | 1 | 2020-01-01 | \n",
    "     | 2 | 2020-04-01 | \n",
    "     | 3 | 2020-07-01 | \n",
    "     | 4 | 2020-10-01 | \n",
    "* `extension` can be `zip` and `parquet` for `shapefiles` and `parquet` files respectively.\n",
    "     \n",
    "For example, if you want to download *shapefiles* for *fixed* connections from *3rd* quarter of 2020, url will look like this: https://ookla-open-data.s3.amazonaws.com/shapefiles/performance/type=fixed/year=2020/quarter=3/2020-07-01_performance_fixed_tiles.zip\n",
    "     \n",
    "or, if you want to download *parquet* for *mobile* connections from *2nd* quarter of 2020, url will look like this:      https://ookla-open-data.s3.amazonaws.com/parquet/performance/type=mobile/year=2020/quarter=2/2020-04-01_performance_mobile_tiles.parquet\n",
    " \n",
    "Note that both parquet and shapefiles contain the same data. Let us play with the data now. \n",
    "\n",
    "### Additional Information\n",
    "This [github repo](https://github.com/teamookla/ookla-open-data) contains detailed information about the dataset including other ways to download it. It also contains tutorials on how the data can be used. This notebook is also inspired by one of the tutorials."
   ]
  },
  {
   "cell_type": "markdown",
   "metadata": {},
   "source": [
    "---\n",
    "\n",
    "## Download Speed Map for Rural Municipalities in AB\n",
    "\n",
    "\n",
    "\n",
    "### Import Libraries"
   ]
  },
  {
   "cell_type": "code",
   "execution_count": 1,
   "metadata": {},
   "outputs": [],
   "source": [
    "%matplotlib inline\n",
    "\n",
    "from datetime import datetime\n",
    "import geopandas as gp\n",
    "import matplotlib\n",
    "import matplotlib.pyplot as plt\n",
    "import pandas as pd\n",
    "import numpy as np\n",
    "from shapely.geometry.polygon import Polygon\n",
    "from shapely import wkt\n",
    "from adjustText import adjust_text"
   ]
  },
  {
   "cell_type": "markdown",
   "metadata": {},
   "source": [
    "\n",
    "### Import Data\n",
    "\n",
    "As mentioned earlier in the instructions, use the url to download the required data. In this notebook, we will be working mostly with the shapefiles containing speedtest results for *fixed* connections from Q2-2020. Since its a massive dataset, it will take few minutes to load the shapefiles."
   ]
  },
  {
   "cell_type": "code",
   "execution_count": 2,
   "metadata": {},
   "outputs": [],
   "source": [
    "tiles = gp.read_file('2020-04-01_performance_fixed_tiles.zip')"
   ]
  },
  {
   "cell_type": "code",
   "execution_count": 3,
   "metadata": {},
   "outputs": [
    {
     "data": {
      "text/html": [
       "<div>\n",
       "<style scoped>\n",
       "    .dataframe tbody tr th:only-of-type {\n",
       "        vertical-align: middle;\n",
       "    }\n",
       "\n",
       "    .dataframe tbody tr th {\n",
       "        vertical-align: top;\n",
       "    }\n",
       "\n",
       "    .dataframe thead th {\n",
       "        text-align: right;\n",
       "    }\n",
       "</style>\n",
       "<table border=\"1\" class=\"dataframe\">\n",
       "  <thead>\n",
       "    <tr style=\"text-align: right;\">\n",
       "      <th></th>\n",
       "      <th>quadkey</th>\n",
       "      <th>avg_d_kbps</th>\n",
       "      <th>avg_u_kbps</th>\n",
       "      <th>avg_lat_ms</th>\n",
       "      <th>tests</th>\n",
       "      <th>devices</th>\n",
       "      <th>geometry</th>\n",
       "    </tr>\n",
       "  </thead>\n",
       "  <tbody>\n",
       "    <tr>\n",
       "      <th>0</th>\n",
       "      <td>1321222233020202</td>\n",
       "      <td>144116</td>\n",
       "      <td>125751</td>\n",
       "      <td>3</td>\n",
       "      <td>7330</td>\n",
       "      <td>1324</td>\n",
       "      <td>POLYGON ((113.55469 22.16197, 113.56018 22.161...</td>\n",
       "    </tr>\n",
       "    <tr>\n",
       "      <th>1</th>\n",
       "      <td>1230231303303002</td>\n",
       "      <td>89763</td>\n",
       "      <td>52939</td>\n",
       "      <td>42</td>\n",
       "      <td>726</td>\n",
       "      <td>137</td>\n",
       "      <td>POLYGON ((55.41504 25.27947, 55.42053 25.27947...</td>\n",
       "    </tr>\n",
       "    <tr>\n",
       "      <th>2</th>\n",
       "      <td>0313131210131030</td>\n",
       "      <td>62657</td>\n",
       "      <td>15479</td>\n",
       "      <td>19</td>\n",
       "      <td>271</td>\n",
       "      <td>40</td>\n",
       "      <td>POLYGON ((-1.79077 51.55658, -1.78528 51.55658...</td>\n",
       "    </tr>\n",
       "    <tr>\n",
       "      <th>3</th>\n",
       "      <td>0213330110110321</td>\n",
       "      <td>98061</td>\n",
       "      <td>11842</td>\n",
       "      <td>19</td>\n",
       "      <td>2</td>\n",
       "      <td>1</td>\n",
       "      <td>POLYGON ((-93.22449 45.06576, -93.21899 45.065...</td>\n",
       "    </tr>\n",
       "    <tr>\n",
       "      <th>4</th>\n",
       "      <td>3100130032202231</td>\n",
       "      <td>15167</td>\n",
       "      <td>7287</td>\n",
       "      <td>8</td>\n",
       "      <td>674</td>\n",
       "      <td>122</td>\n",
       "      <td>POLYGON ((107.59460 -6.91552, 107.60010 -6.915...</td>\n",
       "    </tr>\n",
       "  </tbody>\n",
       "</table>\n",
       "</div>"
      ],
      "text/plain": [
       "            quadkey  avg_d_kbps  avg_u_kbps  avg_lat_ms  tests  devices  \\\n",
       "0  1321222233020202      144116      125751           3   7330     1324   \n",
       "1  1230231303303002       89763       52939          42    726      137   \n",
       "2  0313131210131030       62657       15479          19    271       40   \n",
       "3  0213330110110321       98061       11842          19      2        1   \n",
       "4  3100130032202231       15167        7287           8    674      122   \n",
       "\n",
       "                                            geometry  \n",
       "0  POLYGON ((113.55469 22.16197, 113.56018 22.161...  \n",
       "1  POLYGON ((55.41504 25.27947, 55.42053 25.27947...  \n",
       "2  POLYGON ((-1.79077 51.55658, -1.78528 51.55658...  \n",
       "3  POLYGON ((-93.22449 45.06576, -93.21899 45.065...  \n",
       "4  POLYGON ((107.59460 -6.91552, 107.60010 -6.915...  "
      ]
     },
     "execution_count": 3,
     "metadata": {},
     "output_type": "execute_result"
    }
   ],
   "source": [
    "tiles.head()"
   ]
  },
  {
   "cell_type": "code",
   "execution_count": 4,
   "metadata": {},
   "outputs": [
    {
     "data": {
      "text/plain": [
       "(6938763, 7)"
      ]
     },
     "execution_count": 4,
     "metadata": {},
     "output_type": "execute_result"
    }
   ],
   "source": [
    "tiles.shape"
   ]
  },
  {
   "cell_type": "markdown",
   "metadata": {},
   "source": [
    "We can see that it is a massive dataset with ~7 million rows where each row represents a tile. Various columns here are:\n",
    "* `quadkey` - a unique number representing a tile\n",
    "* `avg_d_kbps` - average download speed (kbps)\n",
    "* `avg_d_kbps` - average upload speed (kbps)\n",
    "* `avg_lat_ms` - average latency (ms)\n",
    "* `tests` - number of speedtests\n",
    "* `devices` - number of unique devices from which speedtests were performed\n",
    "* `geometry` - polygon object with coordinates in [WKT](https://en.wikipedia.org/wiki/Well-known_text_representation_of_geometry) format\n",
    "\n",
    "Note that all other files in the dataset have similar columns."
   ]
  },
  {
   "cell_type": "markdown",
   "metadata": {},
   "source": [
    "### Get Rural Municipality Boundaries\n",
    "\n",
    "Now we need to get shapefiles for areas in AB which are classified as rural municipalities. [U of L library](https://library.ulethbridge.ca/spatial_data/alberta_data) hosts large amount of spatial data. Dataset used in this notebook can be downloaded from [here](https://www.altalis.com/map;id=113). You may need to make an account to download the data and then a link to download the dataset will be sent to your email. This process is completely free of cost. \n",
    "\n",
    "Note that this dataset contains shapefiles for all the categories of habitats such as towns, cities, villages, hamlets etc. So make sure to get the files pertaining to rural municipalities (i.e. `RURAL.*`) and put them in a folder which is in the same directory as this notebook."
   ]
  },
  {
   "cell_type": "code",
   "execution_count": 5,
   "metadata": {},
   "outputs": [],
   "source": [
    "# Rural municipality data\n",
    "counties = gp.read_file('AB_rural_municipalities_shape_files/')"
   ]
  },
  {
   "cell_type": "code",
   "execution_count": 6,
   "metadata": {},
   "outputs": [],
   "source": [
    "# Reproject to match the tiles\n",
    "ab_counties = counties.to_crs(4326) "
   ]
  },
  {
   "cell_type": "code",
   "execution_count": 7,
   "metadata": {},
   "outputs": [
    {
     "data": {
      "text/html": [
       "<div>\n",
       "<style scoped>\n",
       "    .dataframe tbody tr th:only-of-type {\n",
       "        vertical-align: middle;\n",
       "    }\n",
       "\n",
       "    .dataframe tbody tr th {\n",
       "        vertical-align: top;\n",
       "    }\n",
       "\n",
       "    .dataframe thead th {\n",
       "        text-align: right;\n",
       "    }\n",
       "</style>\n",
       "<table border=\"1\" class=\"dataframe\">\n",
       "  <thead>\n",
       "    <tr style=\"text-align: right;\">\n",
       "      <th></th>\n",
       "      <th>RURAL_ID</th>\n",
       "      <th>PID</th>\n",
       "      <th>GEONAME</th>\n",
       "      <th>GEOCODE</th>\n",
       "      <th>geometry</th>\n",
       "    </tr>\n",
       "  </thead>\n",
       "  <tbody>\n",
       "    <tr>\n",
       "      <th>0</th>\n",
       "      <td>1</td>\n",
       "      <td>29860</td>\n",
       "      <td>MUNICIPAL DISTRICT OF ACADIA NO. 34</td>\n",
       "      <td>0001</td>\n",
       "      <td>POLYGON ((-110.05165 51.27041, -110.05136 51.2...</td>\n",
       "    </tr>\n",
       "    <tr>\n",
       "      <th>1</th>\n",
       "      <td>2</td>\n",
       "      <td>29863</td>\n",
       "      <td>ATHABASCA COUNTY</td>\n",
       "      <td>0012</td>\n",
       "      <td>POLYGON ((-113.68568 54.53633, -113.68569 54.5...</td>\n",
       "    </tr>\n",
       "    <tr>\n",
       "      <th>2</th>\n",
       "      <td>3</td>\n",
       "      <td>29864</td>\n",
       "      <td>COUNTY OF BARRHEAD NO. 11</td>\n",
       "      <td>0015</td>\n",
       "      <td>POLYGON ((-114.05164 53.92673, -114.05164 53.9...</td>\n",
       "    </tr>\n",
       "    <tr>\n",
       "      <th>3</th>\n",
       "      <td>4</td>\n",
       "      <td>29865</td>\n",
       "      <td>BEAVER COUNTY</td>\n",
       "      <td>0020</td>\n",
       "      <td>POLYGON ((-113.00114 53.29425, -113.00114 53.2...</td>\n",
       "    </tr>\n",
       "    <tr>\n",
       "      <th>4</th>\n",
       "      <td>5</td>\n",
       "      <td>29869</td>\n",
       "      <td>MUNICIPAL DISTRICT OF BONNYVILLE NO. 87</td>\n",
       "      <td>0036</td>\n",
       "      <td>POLYGON ((-110.35209 53.82412, -110.35207 53.8...</td>\n",
       "    </tr>\n",
       "  </tbody>\n",
       "</table>\n",
       "</div>"
      ],
      "text/plain": [
       "   RURAL_ID    PID                                  GEONAME GEOCODE  \\\n",
       "0         1  29860      MUNICIPAL DISTRICT OF ACADIA NO. 34    0001   \n",
       "1         2  29863                         ATHABASCA COUNTY    0012   \n",
       "2         3  29864                COUNTY OF BARRHEAD NO. 11    0015   \n",
       "3         4  29865                            BEAVER COUNTY    0020   \n",
       "4         5  29869  MUNICIPAL DISTRICT OF BONNYVILLE NO. 87    0036   \n",
       "\n",
       "                                            geometry  \n",
       "0  POLYGON ((-110.05165 51.27041, -110.05136 51.2...  \n",
       "1  POLYGON ((-113.68568 54.53633, -113.68569 54.5...  \n",
       "2  POLYGON ((-114.05164 53.92673, -114.05164 53.9...  \n",
       "3  POLYGON ((-113.00114 53.29425, -113.00114 53.2...  \n",
       "4  POLYGON ((-110.35209 53.82412, -110.35207 53.8...  "
      ]
     },
     "execution_count": 7,
     "metadata": {},
     "output_type": "execute_result"
    }
   ],
   "source": [
    "ab_counties.head()"
   ]
  },
  {
   "cell_type": "code",
   "execution_count": 8,
   "metadata": {},
   "outputs": [
    {
     "data": {
      "text/plain": [
       "(80, 5)"
      ]
     },
     "execution_count": 8,
     "metadata": {},
     "output_type": "execute_result"
    }
   ],
   "source": [
    "ab_counties.shape"
   ]
  },
  {
   "cell_type": "markdown",
   "metadata": {},
   "source": [
    "### Join Tiles to Municipalities\n",
    "\n",
    "Now the tiles from ookla data is joined to the AB municipalities. If this join takes few minutes, don't get surprised. "
   ]
  },
  {
   "cell_type": "code",
   "execution_count": 9,
   "metadata": {},
   "outputs": [],
   "source": [
    "# Join based on the geometry of tiles and municipalities\n",
    "tiles_in_ab_counties = gp.sjoin(tiles, ab_counties, how=\"inner\", op='intersects')"
   ]
  },
  {
   "cell_type": "code",
   "execution_count": 10,
   "metadata": {},
   "outputs": [],
   "source": [
    "# convert to Mbps for easier reading\n",
    "tiles_in_ab_counties['avg_d_mbps'] = tiles_in_ab_counties['avg_d_kbps'] / 1000\n",
    "tiles_in_ab_counties['avg_u_mbps'] = tiles_in_ab_counties['avg_u_kbps'] / 1000"
   ]
  },
  {
   "cell_type": "code",
   "execution_count": 11,
   "metadata": {},
   "outputs": [
    {
     "data": {
      "text/html": [
       "<div>\n",
       "<style scoped>\n",
       "    .dataframe tbody tr th:only-of-type {\n",
       "        vertical-align: middle;\n",
       "    }\n",
       "\n",
       "    .dataframe tbody tr th {\n",
       "        vertical-align: top;\n",
       "    }\n",
       "\n",
       "    .dataframe thead th {\n",
       "        text-align: right;\n",
       "    }\n",
       "</style>\n",
       "<table border=\"1\" class=\"dataframe\">\n",
       "  <thead>\n",
       "    <tr style=\"text-align: right;\">\n",
       "      <th></th>\n",
       "      <th>quadkey</th>\n",
       "      <th>avg_d_kbps</th>\n",
       "      <th>avg_u_kbps</th>\n",
       "      <th>avg_lat_ms</th>\n",
       "      <th>tests</th>\n",
       "      <th>devices</th>\n",
       "      <th>geometry</th>\n",
       "      <th>index_right</th>\n",
       "      <th>RURAL_ID</th>\n",
       "      <th>PID</th>\n",
       "      <th>GEONAME</th>\n",
       "      <th>GEOCODE</th>\n",
       "      <th>avg_d_mbps</th>\n",
       "      <th>avg_u_mbps</th>\n",
       "    </tr>\n",
       "  </thead>\n",
       "  <tbody>\n",
       "    <tr>\n",
       "      <th>81</th>\n",
       "      <td>0212113123101220</td>\n",
       "      <td>54680</td>\n",
       "      <td>7051</td>\n",
       "      <td>12</td>\n",
       "      <td>8</td>\n",
       "      <td>4</td>\n",
       "      <td>POLYGON ((-113.33496 53.52072, -113.32947 53.5...</td>\n",
       "      <td>40</td>\n",
       "      <td>41</td>\n",
       "      <td>29839</td>\n",
       "      <td>STRATHCONA COUNTY</td>\n",
       "      <td>0302</td>\n",
       "      <td>54.680</td>\n",
       "      <td>7.051</td>\n",
       "    </tr>\n",
       "    <tr>\n",
       "      <th>7887</th>\n",
       "      <td>0212113123110323</td>\n",
       "      <td>107067</td>\n",
       "      <td>14289</td>\n",
       "      <td>11</td>\n",
       "      <td>55</td>\n",
       "      <td>15</td>\n",
       "      <td>POLYGON ((-113.26355 53.51745, -113.25806 53.5...</td>\n",
       "      <td>40</td>\n",
       "      <td>41</td>\n",
       "      <td>29839</td>\n",
       "      <td>STRATHCONA COUNTY</td>\n",
       "      <td>0302</td>\n",
       "      <td>107.067</td>\n",
       "      <td>14.289</td>\n",
       "    </tr>\n",
       "    <tr>\n",
       "      <th>8691</th>\n",
       "      <td>0212113132221013</td>\n",
       "      <td>17595</td>\n",
       "      <td>2306</td>\n",
       "      <td>28</td>\n",
       "      <td>59</td>\n",
       "      <td>5</td>\n",
       "      <td>POLYGON ((-113.14270 53.38005, -113.13721 53.3...</td>\n",
       "      <td>40</td>\n",
       "      <td>41</td>\n",
       "      <td>29839</td>\n",
       "      <td>STRATHCONA COUNTY</td>\n",
       "      <td>0302</td>\n",
       "      <td>17.595</td>\n",
       "      <td>2.306</td>\n",
       "    </tr>\n",
       "    <tr>\n",
       "      <th>24210</th>\n",
       "      <td>0212113123103120</td>\n",
       "      <td>60560</td>\n",
       "      <td>9674</td>\n",
       "      <td>28</td>\n",
       "      <td>6</td>\n",
       "      <td>2</td>\n",
       "      <td>POLYGON ((-113.31299 53.50765, -113.30750 53.5...</td>\n",
       "      <td>40</td>\n",
       "      <td>41</td>\n",
       "      <td>29839</td>\n",
       "      <td>STRATHCONA COUNTY</td>\n",
       "      <td>0302</td>\n",
       "      <td>60.560</td>\n",
       "      <td>9.674</td>\n",
       "    </tr>\n",
       "    <tr>\n",
       "      <th>42494</th>\n",
       "      <td>0212113121323312</td>\n",
       "      <td>96674</td>\n",
       "      <td>18516</td>\n",
       "      <td>9</td>\n",
       "      <td>30</td>\n",
       "      <td>7</td>\n",
       "      <td>POLYGON ((-113.30200 53.55010, -113.29651 53.5...</td>\n",
       "      <td>40</td>\n",
       "      <td>41</td>\n",
       "      <td>29839</td>\n",
       "      <td>STRATHCONA COUNTY</td>\n",
       "      <td>0302</td>\n",
       "      <td>96.674</td>\n",
       "      <td>18.516</td>\n",
       "    </tr>\n",
       "  </tbody>\n",
       "</table>\n",
       "</div>"
      ],
      "text/plain": [
       "                quadkey  avg_d_kbps  avg_u_kbps  avg_lat_ms  tests  devices  \\\n",
       "81     0212113123101220       54680        7051          12      8        4   \n",
       "7887   0212113123110323      107067       14289          11     55       15   \n",
       "8691   0212113132221013       17595        2306          28     59        5   \n",
       "24210  0212113123103120       60560        9674          28      6        2   \n",
       "42494  0212113121323312       96674       18516           9     30        7   \n",
       "\n",
       "                                                geometry  index_right  \\\n",
       "81     POLYGON ((-113.33496 53.52072, -113.32947 53.5...           40   \n",
       "7887   POLYGON ((-113.26355 53.51745, -113.25806 53.5...           40   \n",
       "8691   POLYGON ((-113.14270 53.38005, -113.13721 53.3...           40   \n",
       "24210  POLYGON ((-113.31299 53.50765, -113.30750 53.5...           40   \n",
       "42494  POLYGON ((-113.30200 53.55010, -113.29651 53.5...           40   \n",
       "\n",
       "       RURAL_ID    PID            GEONAME GEOCODE  avg_d_mbps  avg_u_mbps  \n",
       "81           41  29839  STRATHCONA COUNTY    0302      54.680       7.051  \n",
       "7887         41  29839  STRATHCONA COUNTY    0302     107.067      14.289  \n",
       "8691         41  29839  STRATHCONA COUNTY    0302      17.595       2.306  \n",
       "24210        41  29839  STRATHCONA COUNTY    0302      60.560       9.674  \n",
       "42494        41  29839  STRATHCONA COUNTY    0302      96.674      18.516  "
      ]
     },
     "execution_count": 11,
     "metadata": {},
     "output_type": "execute_result"
    }
   ],
   "source": [
    "tiles_in_ab_counties.head()"
   ]
  },
  {
   "cell_type": "markdown",
   "metadata": {},
   "source": [
    "### Make a Table of Top 5 and Bottom 5 Municipalities in Terms of Download Speed\n",
    "\n",
    "Here we will make a table containing list of 5 municipalities with highest and lowest download speed."
   ]
  },
  {
   "cell_type": "code",
   "execution_count": 12,
   "metadata": {
    "scrolled": true
   },
   "outputs": [],
   "source": [
    "# Calculate average download/upload speed for a given municipality - it is weighted by number of tests\n",
    "county_stats = (\n",
    "    tiles_in_ab_counties.groupby([\"GEONAME\"])\n",
    "    .apply(\n",
    "        lambda x: pd.Series(\n",
    "            {\"avg_d_mbps_wt\": np.average(x[\"avg_d_mbps\"], weights=x[\"tests\"])}\n",
    "        )\n",
    "    )\n",
    "    .reset_index()\n",
    "    .merge(\n",
    "        tiles_in_ab_counties.groupby([\"GEONAME\"])\n",
    "        .agg(tests=(\"tests\", \"sum\"))\n",
    "        .reset_index(),\n",
    "        on=[\"GEONAME\"],\n",
    "    )\n",
    ")"
   ]
  },
  {
   "cell_type": "code",
   "execution_count": 13,
   "metadata": {},
   "outputs": [],
   "source": [
    "table_stats = (\n",
    "    county_stats.nlargest(5, \"avg_d_mbps_wt\")\n",
    "    .append(\n",
    "        county_stats.nsmallest(5, \"avg_d_mbps_wt\")\n",
    "    )\n",
    "    .sort_values(\"avg_d_mbps_wt\", ascending=False)\n",
    "    .round(2) # round to 2 decimal places for easier reading\n",
    ")"
   ]
  },
  {
   "cell_type": "code",
   "execution_count": 14,
   "metadata": {
    "scrolled": true
   },
   "outputs": [
    {
     "data": {
      "text/html": [
       "<div>\n",
       "<style scoped>\n",
       "    .dataframe tbody tr th:only-of-type {\n",
       "        vertical-align: middle;\n",
       "    }\n",
       "\n",
       "    .dataframe tbody tr th {\n",
       "        vertical-align: top;\n",
       "    }\n",
       "\n",
       "    .dataframe thead th {\n",
       "        text-align: right;\n",
       "    }\n",
       "</style>\n",
       "<table border=\"1\" class=\"dataframe\">\n",
       "  <thead>\n",
       "    <tr style=\"text-align: right;\">\n",
       "      <th></th>\n",
       "      <th>Municipality</th>\n",
       "      <th>Avg download speed (Mbps)</th>\n",
       "      <th>Tests</th>\n",
       "    </tr>\n",
       "  </thead>\n",
       "  <tbody>\n",
       "    <tr>\n",
       "      <th>56</th>\n",
       "      <td>MUNICIPALITY OF CROWSNEST PASS</td>\n",
       "      <td>134.89</td>\n",
       "      <td>239</td>\n",
       "    </tr>\n",
       "    <tr>\n",
       "      <th>62</th>\n",
       "      <td>REGIONAL MUNICIPALITY OF WOOD BUFFALO</td>\n",
       "      <td>127.92</td>\n",
       "      <td>6253</td>\n",
       "    </tr>\n",
       "    <tr>\n",
       "      <th>37</th>\n",
       "      <td>LETHBRIDGE COUNTY</td>\n",
       "      <td>122.32</td>\n",
       "      <td>8337</td>\n",
       "    </tr>\n",
       "    <tr>\n",
       "      <th>22</th>\n",
       "      <td>CYPRESS COUNTY</td>\n",
       "      <td>119.37</td>\n",
       "      <td>6008</td>\n",
       "    </tr>\n",
       "    <tr>\n",
       "      <th>63</th>\n",
       "      <td>ROCKY VIEW COUNTY</td>\n",
       "      <td>114.78</td>\n",
       "      <td>21614</td>\n",
       "    </tr>\n",
       "    <tr>\n",
       "      <th>46</th>\n",
       "      <td>MUNICIPAL DISTRICT OF OPPORTUNITY NO. 17</td>\n",
       "      <td>8.54</td>\n",
       "      <td>282</td>\n",
       "    </tr>\n",
       "    <tr>\n",
       "      <th>27</th>\n",
       "      <td>I.D. NO. 349</td>\n",
       "      <td>8.00</td>\n",
       "      <td>6</td>\n",
       "    </tr>\n",
       "    <tr>\n",
       "      <th>25</th>\n",
       "      <td>I.D. NO. 12 (JASPER NATIONAL PARK)</td>\n",
       "      <td>5.26</td>\n",
       "      <td>4</td>\n",
       "    </tr>\n",
       "    <tr>\n",
       "      <th>7</th>\n",
       "      <td>CLEAR HILLS COUNTY</td>\n",
       "      <td>5.08</td>\n",
       "      <td>59</td>\n",
       "    </tr>\n",
       "    <tr>\n",
       "      <th>3</th>\n",
       "      <td>BIRCH HILLS COUNTY</td>\n",
       "      <td>3.43</td>\n",
       "      <td>83</td>\n",
       "    </tr>\n",
       "  </tbody>\n",
       "</table>\n",
       "</div>"
      ],
      "text/plain": [
       "                                Municipality  Avg download speed (Mbps)  Tests\n",
       "56            MUNICIPALITY OF CROWSNEST PASS                     134.89    239\n",
       "62     REGIONAL MUNICIPALITY OF WOOD BUFFALO                     127.92   6253\n",
       "37                         LETHBRIDGE COUNTY                     122.32   8337\n",
       "22                            CYPRESS COUNTY                     119.37   6008\n",
       "63                         ROCKY VIEW COUNTY                     114.78  21614\n",
       "46  MUNICIPAL DISTRICT OF OPPORTUNITY NO. 17                       8.54    282\n",
       "27                              I.D. NO. 349                       8.00      6\n",
       "25        I.D. NO. 12 (JASPER NATIONAL PARK)                       5.26      4\n",
       "7                         CLEAR HILLS COUNTY                       5.08     59\n",
       "3                         BIRCH HILLS COUNTY                       3.43     83"
      ]
     },
     "execution_count": 14,
     "metadata": {},
     "output_type": "execute_result"
    }
   ],
   "source": [
    "header = [\"Municipality\", \"Avg download speed (Mbps)\", \"Tests\"]\n",
    "\n",
    "table_stats.rename(columns=dict(zip(table_stats.columns, header)))"
   ]
  },
  {
   "cell_type": "markdown",
   "metadata": {},
   "source": [
    "---"
   ]
  },
  {
   "cell_type": "markdown",
   "metadata": {},
   "source": [
    "## Map for Download Speed in Rural Municipalities\n",
    "\n",
    "Here a choropleth map for AB municipalities is created which shows the download speed range in which it falls. "
   ]
  },
  {
   "cell_type": "code",
   "execution_count": 15,
   "metadata": {},
   "outputs": [],
   "source": [
    "county_data = ab_counties[['GEONAME', 'geometry']].merge(county_stats, on='GEONAME').to_crs(3401)"
   ]
  },
  {
   "cell_type": "code",
   "execution_count": 16,
   "metadata": {},
   "outputs": [],
   "source": [
    "labels = [\"0 to 25 Mbps\", \"25 to 50 Mbps\", \"50 to 100 Mbps\", \"100 to 150 Mbps\", \"150 to 200 Mbps\"]\n",
    "\n",
    "county_data['group'] = pd.cut(\n",
    "    county_data.avg_d_mbps_wt, \n",
    "    (0, 25, 50, 100, 150, 200), \n",
    "    right=False, \n",
    "    labels = labels\n",
    ")"
   ]
  },
  {
   "cell_type": "code",
   "execution_count": 32,
   "metadata": {
    "scrolled": false
   },
   "outputs": [
    {
     "data": {
      "image/png": "[encoded data removed]",
      "text/plain": [
       "<Figure size 576x1152 with 1 Axes>"
      ]
     },
     "metadata": {
      "needs_background": "light"
     },
     "output_type": "display_data"
    }
   ],
   "source": [
    "fig, ax = plt.subplots(1, figsize=(8, 16))\n",
    "\n",
    "county_data.plot(\n",
    "    column=\"group\", cmap=\"viridis\", linewidth=0.5, ax=ax, edgecolor=\"0.1\", legend=True\n",
    ")\n",
    "\n",
    "ax.axis(\"off\")\n",
    "\n",
    "leg = ax.get_legend()\n",
    "leg.set_bbox_to_anchor((1.5, 0.3))\n",
    "leg.set_title(\"Mean download speed (Mbps)\\nin AB Rural Municipalitites (Q2-2020)\")\n"
   ]
  },
  {
   "cell_type": "markdown",
   "metadata": {},
   "source": [
    "Since the major cities are not available in the shapefiles for rural municipalities, they are colored white in this map. They can be easily appended to the dataframe by considering shapefiles for cities."
   ]
  },
  {
   "cell_type": "markdown",
   "metadata": {},
   "source": [
    "### Mobile Data\n",
    "Here a snapshot of speedtests for mobile connections is presented. Note the similar columns as other files."
   ]
  },
  {
   "cell_type": "code",
   "execution_count": 18,
   "metadata": {},
   "outputs": [],
   "source": [
    "tiles = gp.read_file('2020-04-01_performance_mobile_tiles.zip')"
   ]
  },
  {
   "cell_type": "code",
   "execution_count": 19,
   "metadata": {},
   "outputs": [
    {
     "data": {
      "text/html": [
       "<div>\n",
       "<style scoped>\n",
       "    .dataframe tbody tr th:only-of-type {\n",
       "        vertical-align: middle;\n",
       "    }\n",
       "\n",
       "    .dataframe tbody tr th {\n",
       "        vertical-align: top;\n",
       "    }\n",
       "\n",
       "    .dataframe thead th {\n",
       "        text-align: right;\n",
       "    }\n",
       "</style>\n",
       "<table border=\"1\" class=\"dataframe\">\n",
       "  <thead>\n",
       "    <tr style=\"text-align: right;\">\n",
       "      <th></th>\n",
       "      <th>quadkey</th>\n",
       "      <th>avg_d_kbps</th>\n",
       "      <th>avg_u_kbps</th>\n",
       "      <th>avg_lat_ms</th>\n",
       "      <th>tests</th>\n",
       "      <th>devices</th>\n",
       "      <th>geometry</th>\n",
       "    </tr>\n",
       "  </thead>\n",
       "  <tbody>\n",
       "    <tr>\n",
       "      <th>0</th>\n",
       "      <td>1203022122320032</td>\n",
       "      <td>28772</td>\n",
       "      <td>3165</td>\n",
       "      <td>34</td>\n",
       "      <td>8</td>\n",
       "      <td>1</td>\n",
       "      <td>POLYGON ((24.09302 49.88402, 24.09851 49.88402...</td>\n",
       "    </tr>\n",
       "    <tr>\n",
       "      <th>1</th>\n",
       "      <td>0313113213321131</td>\n",
       "      <td>20782</td>\n",
       "      <td>10180</td>\n",
       "      <td>54</td>\n",
       "      <td>2</td>\n",
       "      <td>2</td>\n",
       "      <td>POLYGON ((-1.49963 52.95526, -1.49414 52.95526...</td>\n",
       "    </tr>\n",
       "    <tr>\n",
       "      <th>2</th>\n",
       "      <td>1221210331312333</td>\n",
       "      <td>22690</td>\n",
       "      <td>22416</td>\n",
       "      <td>449</td>\n",
       "      <td>6</td>\n",
       "      <td>2</td>\n",
       "      <td>POLYGON ((30.88806 29.92161, 30.89355 29.92161...</td>\n",
       "    </tr>\n",
       "    <tr>\n",
       "      <th>3</th>\n",
       "      <td>1200312211223323</td>\n",
       "      <td>54493</td>\n",
       "      <td>4635</td>\n",
       "      <td>21</td>\n",
       "      <td>2</td>\n",
       "      <td>2</td>\n",
       "      <td>POLYGON ((18.00110 59.35840, 18.00659 59.35840...</td>\n",
       "    </tr>\n",
       "    <tr>\n",
       "      <th>4</th>\n",
       "      <td>0302233220203221</td>\n",
       "      <td>90669</td>\n",
       "      <td>6576</td>\n",
       "      <td>21</td>\n",
       "      <td>1</td>\n",
       "      <td>1</td>\n",
       "      <td>POLYGON ((-81.51306 41.31908, -81.50757 41.319...</td>\n",
       "    </tr>\n",
       "  </tbody>\n",
       "</table>\n",
       "</div>"
      ],
      "text/plain": [
       "            quadkey  avg_d_kbps  avg_u_kbps  avg_lat_ms  tests  devices  \\\n",
       "0  1203022122320032       28772        3165          34      8        1   \n",
       "1  0313113213321131       20782       10180          54      2        2   \n",
       "2  1221210331312333       22690       22416         449      6        2   \n",
       "3  1200312211223323       54493        4635          21      2        2   \n",
       "4  0302233220203221       90669        6576          21      1        1   \n",
       "\n",
       "                                            geometry  \n",
       "0  POLYGON ((24.09302 49.88402, 24.09851 49.88402...  \n",
       "1  POLYGON ((-1.49963 52.95526, -1.49414 52.95526...  \n",
       "2  POLYGON ((30.88806 29.92161, 30.89355 29.92161...  \n",
       "3  POLYGON ((18.00110 59.35840, 18.00659 59.35840...  \n",
       "4  POLYGON ((-81.51306 41.31908, -81.50757 41.319...  "
      ]
     },
     "execution_count": 19,
     "metadata": {},
     "output_type": "execute_result"
    }
   ],
   "source": [
    "tiles.head()"
   ]
  },
  {
   "cell_type": "code",
   "execution_count": 20,
   "metadata": {},
   "outputs": [
    {
     "data": {
      "text/plain": [
       "(4075861, 7)"
      ]
     },
     "execution_count": 20,
     "metadata": {},
     "output_type": "execute_result"
    }
   ],
   "source": [
    "tiles.shape"
   ]
  },
  {
   "cell_type": "markdown",
   "metadata": {},
   "source": [
    "### Mobile Connection - Parquet\n",
    "Here a snapshot of data for mobile connections from parquet file is presented. The data is same as the shapefiles."
   ]
  },
  {
   "cell_type": "code",
   "execution_count": 24,
   "metadata": {},
   "outputs": [],
   "source": [
    "mobile_parquet = pd.read_parquet('2020-04-01_performance_mobile_tiles.parquet')"
   ]
  },
  {
   "cell_type": "code",
   "execution_count": 25,
   "metadata": {},
   "outputs": [
    {
     "data": {
      "text/html": [
       "<div>\n",
       "<style scoped>\n",
       "    .dataframe tbody tr th:only-of-type {\n",
       "        vertical-align: middle;\n",
       "    }\n",
       "\n",
       "    .dataframe tbody tr th {\n",
       "        vertical-align: top;\n",
       "    }\n",
       "\n",
       "    .dataframe thead th {\n",
       "        text-align: right;\n",
       "    }\n",
       "</style>\n",
       "<table border=\"1\" class=\"dataframe\">\n",
       "  <thead>\n",
       "    <tr style=\"text-align: right;\">\n",
       "      <th></th>\n",
       "      <th>quadkey</th>\n",
       "      <th>tile</th>\n",
       "      <th>avg_d_kbps</th>\n",
       "      <th>avg_u_kbps</th>\n",
       "      <th>avg_lat_ms</th>\n",
       "      <th>tests</th>\n",
       "      <th>devices</th>\n",
       "    </tr>\n",
       "  </thead>\n",
       "  <tbody>\n",
       "    <tr>\n",
       "      <th>0</th>\n",
       "      <td>1203022122320032</td>\n",
       "      <td>POLYGON((24.093017578125 49.8840172172466, 24....</td>\n",
       "      <td>28772</td>\n",
       "      <td>3165</td>\n",
       "      <td>34</td>\n",
       "      <td>8</td>\n",
       "      <td>1</td>\n",
       "    </tr>\n",
       "    <tr>\n",
       "      <th>1</th>\n",
       "      <td>0313113213321131</td>\n",
       "      <td>POLYGON((-1.4996337890625 52.9552569784547, -1...</td>\n",
       "      <td>20782</td>\n",
       "      <td>10180</td>\n",
       "      <td>54</td>\n",
       "      <td>2</td>\n",
       "      <td>2</td>\n",
       "    </tr>\n",
       "    <tr>\n",
       "      <th>2</th>\n",
       "      <td>1221210331312333</td>\n",
       "      <td>POLYGON((30.8880615234375 29.9216133196956, 30...</td>\n",
       "      <td>22690</td>\n",
       "      <td>22416</td>\n",
       "      <td>449</td>\n",
       "      <td>6</td>\n",
       "      <td>2</td>\n",
       "    </tr>\n",
       "    <tr>\n",
       "      <th>3</th>\n",
       "      <td>1200312211223323</td>\n",
       "      <td>POLYGON((18.0010986328125 59.3583959060394, 18...</td>\n",
       "      <td>54493</td>\n",
       "      <td>4635</td>\n",
       "      <td>21</td>\n",
       "      <td>2</td>\n",
       "      <td>2</td>\n",
       "    </tr>\n",
       "    <tr>\n",
       "      <th>4</th>\n",
       "      <td>0302233220203221</td>\n",
       "      <td>POLYGON((-81.5130615234375 41.3190756229514, -...</td>\n",
       "      <td>90669</td>\n",
       "      <td>6576</td>\n",
       "      <td>21</td>\n",
       "      <td>1</td>\n",
       "      <td>1</td>\n",
       "    </tr>\n",
       "  </tbody>\n",
       "</table>\n",
       "</div>"
      ],
      "text/plain": [
       "            quadkey                                               tile  \\\n",
       "0  1203022122320032  POLYGON((24.093017578125 49.8840172172466, 24....   \n",
       "1  0313113213321131  POLYGON((-1.4996337890625 52.9552569784547, -1...   \n",
       "2  1221210331312333  POLYGON((30.8880615234375 29.9216133196956, 30...   \n",
       "3  1200312211223323  POLYGON((18.0010986328125 59.3583959060394, 18...   \n",
       "4  0302233220203221  POLYGON((-81.5130615234375 41.3190756229514, -...   \n",
       "\n",
       "   avg_d_kbps  avg_u_kbps  avg_lat_ms  tests  devices  \n",
       "0       28772        3165          34      8        1  \n",
       "1       20782       10180          54      2        2  \n",
       "2       22690       22416         449      6        2  \n",
       "3       54493        4635          21      2        2  \n",
       "4       90669        6576          21      1        1  "
      ]
     },
     "execution_count": 25,
     "metadata": {},
     "output_type": "execute_result"
    }
   ],
   "source": [
    "mobile_parquet.head()"
   ]
  },
  {
   "cell_type": "code",
   "execution_count": 26,
   "metadata": {},
   "outputs": [
    {
     "data": {
      "text/plain": [
       "(4075861, 7)"
      ]
     },
     "execution_count": 26,
     "metadata": {},
     "output_type": "execute_result"
    }
   ],
   "source": [
    "mobile_parquet.shape"
   ]
  },
  {
   "cell_type": "markdown",
   "metadata": {},
   "source": [
    "### Fixed Connection - Parquet\n",
    "Here a snapshot of data for fixed connections from parquet file is presented. The data is same as the shapefiles."
   ]
  },
  {
   "cell_type": "code",
   "execution_count": 21,
   "metadata": {},
   "outputs": [],
   "source": [
    "fixed_parquet = pd.read_parquet('2020-04-01_performance_fixed_tiles.parquet')"
   ]
  },
  {
   "cell_type": "code",
   "execution_count": 22,
   "metadata": {},
   "outputs": [
    {
     "data": {
      "text/html": [
       "<div>\n",
       "<style scoped>\n",
       "    .dataframe tbody tr th:only-of-type {\n",
       "        vertical-align: middle;\n",
       "    }\n",
       "\n",
       "    .dataframe tbody tr th {\n",
       "        vertical-align: top;\n",
       "    }\n",
       "\n",
       "    .dataframe thead th {\n",
       "        text-align: right;\n",
       "    }\n",
       "</style>\n",
       "<table border=\"1\" class=\"dataframe\">\n",
       "  <thead>\n",
       "    <tr style=\"text-align: right;\">\n",
       "      <th></th>\n",
       "      <th>quadkey</th>\n",
       "      <th>tile</th>\n",
       "      <th>avg_d_kbps</th>\n",
       "      <th>avg_u_kbps</th>\n",
       "      <th>avg_lat_ms</th>\n",
       "      <th>tests</th>\n",
       "      <th>devices</th>\n",
       "    </tr>\n",
       "  </thead>\n",
       "  <tbody>\n",
       "    <tr>\n",
       "      <th>0</th>\n",
       "      <td>1321222233020202</td>\n",
       "      <td>POLYGON((113.5546875 22.161970614368, 113.5601...</td>\n",
       "      <td>144116</td>\n",
       "      <td>125751</td>\n",
       "      <td>3</td>\n",
       "      <td>7330</td>\n",
       "      <td>1324</td>\n",
       "    </tr>\n",
       "    <tr>\n",
       "      <th>1</th>\n",
       "      <td>1230231303303002</td>\n",
       "      <td>POLYGON((55.4150390625 25.2794707340818, 55.42...</td>\n",
       "      <td>89763</td>\n",
       "      <td>52939</td>\n",
       "      <td>42</td>\n",
       "      <td>726</td>\n",
       "      <td>137</td>\n",
       "    </tr>\n",
       "    <tr>\n",
       "      <th>2</th>\n",
       "      <td>0313131210131030</td>\n",
       "      <td>POLYGON((-1.790771484375 51.5565821857625, -1....</td>\n",
       "      <td>62657</td>\n",
       "      <td>15479</td>\n",
       "      <td>19</td>\n",
       "      <td>271</td>\n",
       "      <td>40</td>\n",
       "    </tr>\n",
       "    <tr>\n",
       "      <th>3</th>\n",
       "      <td>0213330110110321</td>\n",
       "      <td>POLYGON((-93.2244873046875 45.0657615477031, -...</td>\n",
       "      <td>98061</td>\n",
       "      <td>11842</td>\n",
       "      <td>19</td>\n",
       "      <td>2</td>\n",
       "      <td>1</td>\n",
       "    </tr>\n",
       "    <tr>\n",
       "      <th>4</th>\n",
       "      <td>3100130032202231</td>\n",
       "      <td>POLYGON((107.594604492188 -6.91552057304965, 1...</td>\n",
       "      <td>15167</td>\n",
       "      <td>7287</td>\n",
       "      <td>8</td>\n",
       "      <td>674</td>\n",
       "      <td>122</td>\n",
       "    </tr>\n",
       "  </tbody>\n",
       "</table>\n",
       "</div>"
      ],
      "text/plain": [
       "            quadkey                                               tile  \\\n",
       "0  1321222233020202  POLYGON((113.5546875 22.161970614368, 113.5601...   \n",
       "1  1230231303303002  POLYGON((55.4150390625 25.2794707340818, 55.42...   \n",
       "2  0313131210131030  POLYGON((-1.790771484375 51.5565821857625, -1....   \n",
       "3  0213330110110321  POLYGON((-93.2244873046875 45.0657615477031, -...   \n",
       "4  3100130032202231  POLYGON((107.594604492188 -6.91552057304965, 1...   \n",
       "\n",
       "   avg_d_kbps  avg_u_kbps  avg_lat_ms  tests  devices  \n",
       "0      144116      125751           3   7330     1324  \n",
       "1       89763       52939          42    726      137  \n",
       "2       62657       15479          19    271       40  \n",
       "3       98061       11842          19      2        1  \n",
       "4       15167        7287           8    674      122  "
      ]
     },
     "execution_count": 22,
     "metadata": {},
     "output_type": "execute_result"
    }
   ],
   "source": [
    "fixed_parquet.head()"
   ]
  },
  {
   "cell_type": "code",
   "execution_count": 23,
   "metadata": {},
   "outputs": [
    {
     "data": {
      "text/plain": [
       "(6938763, 7)"
      ]
     },
     "execution_count": 23,
     "metadata": {},
     "output_type": "execute_result"
    }
   ],
   "source": [
    "fixed_parquet.shape"
   ]
  },
  {
   "cell_type": "markdown",
   "metadata": {},
   "source": [
    "### Converting Parquet Data into Geopandas Dataframe\n",
    "This is one of the several ways to convert data from parquet files into geopandas dataframe."
   ]
  },
  {
   "cell_type": "code",
   "execution_count": 27,
   "metadata": {},
   "outputs": [],
   "source": [
    "fixed_parquet = pd.read_parquet('2020-04-01_performance_fixed_tiles.parquet')"
   ]
  },
  {
   "cell_type": "code",
   "execution_count": 28,
   "metadata": {},
   "outputs": [],
   "source": [
    "# Convert geometry to WKT object\n",
    "fixed_parquet['geometry'] = fixed_parquet['tile'].apply(wkt.loads)\n",
    "fixed_parquet.drop(columns=['tile'], inplace=True)"
   ]
  },
  {
   "cell_type": "code",
   "execution_count": 29,
   "metadata": {},
   "outputs": [],
   "source": [
    "# Create a geopandas dataframe with same CRS projection as other data\n",
    "fp = gp.GeoDataFrame(fixed_parquet, crs=4326, geometry='geometry')"
   ]
  },
  {
   "cell_type": "code",
   "execution_count": 30,
   "metadata": {},
   "outputs": [
    {
     "data": {
      "text/html": [
       "<div>\n",
       "<style scoped>\n",
       "    .dataframe tbody tr th:only-of-type {\n",
       "        vertical-align: middle;\n",
       "    }\n",
       "\n",
       "    .dataframe tbody tr th {\n",
       "        vertical-align: top;\n",
       "    }\n",
       "\n",
       "    .dataframe thead th {\n",
       "        text-align: right;\n",
       "    }\n",
       "</style>\n",
       "<table border=\"1\" class=\"dataframe\">\n",
       "  <thead>\n",
       "    <tr style=\"text-align: right;\">\n",
       "      <th></th>\n",
       "      <th>quadkey</th>\n",
       "      <th>avg_d_kbps</th>\n",
       "      <th>avg_u_kbps</th>\n",
       "      <th>avg_lat_ms</th>\n",
       "      <th>tests</th>\n",
       "      <th>devices</th>\n",
       "      <th>geometry</th>\n",
       "    </tr>\n",
       "  </thead>\n",
       "  <tbody>\n",
       "    <tr>\n",
       "      <th>0</th>\n",
       "      <td>1321222233020202</td>\n",
       "      <td>144116</td>\n",
       "      <td>125751</td>\n",
       "      <td>3</td>\n",
       "      <td>7330</td>\n",
       "      <td>1324</td>\n",
       "      <td>POLYGON ((113.55469 22.16197, 113.56018 22.161...</td>\n",
       "    </tr>\n",
       "    <tr>\n",
       "      <th>1</th>\n",
       "      <td>1230231303303002</td>\n",
       "      <td>89763</td>\n",
       "      <td>52939</td>\n",
       "      <td>42</td>\n",
       "      <td>726</td>\n",
       "      <td>137</td>\n",
       "      <td>POLYGON ((55.41504 25.27947, 55.42053 25.27947...</td>\n",
       "    </tr>\n",
       "    <tr>\n",
       "      <th>2</th>\n",
       "      <td>0313131210131030</td>\n",
       "      <td>62657</td>\n",
       "      <td>15479</td>\n",
       "      <td>19</td>\n",
       "      <td>271</td>\n",
       "      <td>40</td>\n",
       "      <td>POLYGON ((-1.79077 51.55658, -1.78528 51.55658...</td>\n",
       "    </tr>\n",
       "    <tr>\n",
       "      <th>3</th>\n",
       "      <td>0213330110110321</td>\n",
       "      <td>98061</td>\n",
       "      <td>11842</td>\n",
       "      <td>19</td>\n",
       "      <td>2</td>\n",
       "      <td>1</td>\n",
       "      <td>POLYGON ((-93.22449 45.06576, -93.21899 45.065...</td>\n",
       "    </tr>\n",
       "    <tr>\n",
       "      <th>4</th>\n",
       "      <td>3100130032202231</td>\n",
       "      <td>15167</td>\n",
       "      <td>7287</td>\n",
       "      <td>8</td>\n",
       "      <td>674</td>\n",
       "      <td>122</td>\n",
       "      <td>POLYGON ((107.59460 -6.91552, 107.60010 -6.915...</td>\n",
       "    </tr>\n",
       "  </tbody>\n",
       "</table>\n",
       "</div>"
      ],
      "text/plain": [
       "            quadkey  avg_d_kbps  avg_u_kbps  avg_lat_ms  tests  devices  \\\n",
       "0  1321222233020202      144116      125751           3   7330     1324   \n",
       "1  1230231303303002       89763       52939          42    726      137   \n",
       "2  0313131210131030       62657       15479          19    271       40   \n",
       "3  0213330110110321       98061       11842          19      2        1   \n",
       "4  3100130032202231       15167        7287           8    674      122   \n",
       "\n",
       "                                            geometry  \n",
       "0  POLYGON ((113.55469 22.16197, 113.56018 22.161...  \n",
       "1  POLYGON ((55.41504 25.27947, 55.42053 25.27947...  \n",
       "2  POLYGON ((-1.79077 51.55658, -1.78528 51.55658...  \n",
       "3  POLYGON ((-93.22449 45.06576, -93.21899 45.065...  \n",
       "4  POLYGON ((107.59460 -6.91552, 107.60010 -6.915...  "
      ]
     },
     "execution_count": 30,
     "metadata": {},
     "output_type": "execute_result"
    }
   ],
   "source": [
    "fp.head()"
   ]
  },
  {
   "cell_type": "code",
   "execution_count": 31,
   "metadata": {},
   "outputs": [
    {
     "data": {
      "text/plain": [
       "quadkey         object\n",
       "avg_d_kbps       int64\n",
       "avg_u_kbps       int64\n",
       "avg_lat_ms       int64\n",
       "tests            int64\n",
       "devices          int64\n",
       "geometry      geometry\n",
       "dtype: object"
      ]
     },
     "execution_count": 31,
     "metadata": {},
     "output_type": "execute_result"
    }
   ],
   "source": [
    "fp.dtypes"
   ]
  },
  {
   "cell_type": "code",
   "execution_count": 33,
   "metadata": {},
   "outputs": [],
   "source": [
    "some = gp.sjoin(fp, ab_counties, how=\"inner\", op='intersects')"
   ]
  },
  {
   "cell_type": "markdown",
   "metadata": {},
   "source": [
    "### More Tutorials\n",
    "\n",
    "Don't forget more Ookla tutorials in R and Python programming languages can be found [here](https://github.com/teamookla/ookla-open-data/tree/master/tutorials)."
   ]
  },
  {
   "cell_type": "code",
   "execution_count": null,
   "metadata": {},
   "outputs": [],
   "source": []
  }
 ],
 "metadata": {
  "kernelspec": {
   "display_name": "Python 3",
   "language": "python",
   "name": "python3"
  },
  "language_info": {
   "codemirror_mode": {
    "name": "ipython",
    "version": 3
   },
   "file_extension": ".py",
   "mimetype": "text/x-python",
   "name": "python",
   "nbconvert_exporter": "python",
   "pygments_lexer": "ipython3",
   "version": "3.6.10"
  }
 },
 "nbformat": 4,
 "nbformat_minor": 4
}
